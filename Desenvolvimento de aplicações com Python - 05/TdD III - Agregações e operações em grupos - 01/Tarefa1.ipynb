{
 "cells": [
  {
   "cell_type": "markdown",
   "metadata": {},
   "source": [
    "# Livro para consulta:\n",
    "- https://jakevdp.github.io/PythonDataScienceHandbook/03.08-aggregation-and-grouping.html\n",
    "- https://jakevdp.github.io/PythonDataScienceHandbook/03.09-pivot-tables.html\n",
    "    "
   ]
  },
  {
   "cell_type": "markdown",
   "metadata": {},
   "source": [
    "# 1. Importando bibliotecas <a name=\"import\"></a>\n",
    "\n",
    "<div style=\"text-align: right\"\n",
    "     \n",
    "[Voltar ao índice](#Contents)"
   ]
  },
  {
   "cell_type": "code",
   "execution_count": 64,
   "metadata": {
    "ExecuteTime": {
     "end_time": "2021-06-06T21:12:37.298706Z",
     "start_time": "2021-06-06T21:12:36.656481Z"
    }
   },
   "outputs": [
    {
     "name": "stdout",
     "output_type": "stream",
     "text": [
      "Setup Completo\n"
     ]
    }
   ],
   "source": [
    "import numpy as np\n",
    "import pandas as pd\n",
    "import seaborn as sns\n",
    "import matplotlib.pyplot as plt\n",
    "\n",
    "%matplotlib inline\n",
    "print( 'Setup Completo' )"
   ]
  },
  {
   "cell_type": "markdown",
   "metadata": {},
   "source": [
    "# 2. Carregando o dataframe SINASC <a name=\"read\"></a>\n",
    "<div style=\"text-align: right\"\n",
    "     \n",
    "[Voltar ao índice](#Contents)"
   ]
  },
  {
   "cell_type": "code",
   "execution_count": 65,
   "metadata": {
    "ExecuteTime": {
     "end_time": "2021-06-06T21:12:37.762376Z",
     "start_time": "2021-06-06T21:12:37.728383Z"
    },
    "scrolled": false
   },
   "outputs": [
    {
     "data": {
      "text/plain": [
       "0    3685\n",
       "1    3055\n",
       "2    3460\n",
       "3    2982\n",
       "4    3310\n",
       "Name: PESO, dtype: int64"
      ]
     },
     "execution_count": 65,
     "metadata": {},
     "output_type": "execute_result"
    }
   ],
   "source": [
    "sinasc_raw = pd.read_csv('SINASC_RO_2019.csv')\n",
    "sinasc_raw['PESO'].head()"
   ]
  },
  {
   "cell_type": "code",
   "execution_count": 66,
   "metadata": {},
   "outputs": [
    {
     "data": {
      "text/plain": [
       "Index(['ORIGEM', 'CODESTAB', 'CODMUNNASC', 'LOCNASC', 'IDADEMAE', 'ESTCIVMAE',\n",
       "       'ESCMAE', 'CODOCUPMAE', 'QTDFILVIVO', 'QTDFILMORT', 'CODMUNRES',\n",
       "       'GESTACAO', 'GRAVIDEZ', 'PARTO', 'CONSULTAS', 'DTNASC', 'HORANASC',\n",
       "       'SEXO', 'APGAR1', 'APGAR5', 'RACACOR', 'PESO', 'IDANOMAL', 'DTCADASTRO',\n",
       "       'CODANOMAL', 'NUMEROLOTE', 'VERSAOSIST', 'DTRECEBIM', 'DIFDATA',\n",
       "       'DTRECORIGA', 'NATURALMAE', 'CODMUNNATU', 'CODUFNATU', 'ESCMAE2010',\n",
       "       'SERIESCMAE', 'DTNASCMAE', 'RACACORMAE', 'QTDGESTANT', 'QTDPARTNOR',\n",
       "       'QTDPARTCES', 'IDADEPAI', 'DTULTMENST', 'SEMAGESTAC', 'TPMETESTIM',\n",
       "       'CONSPRENAT', 'MESPRENAT', 'TPAPRESENT', 'STTRABPART', 'STCESPARTO',\n",
       "       'TPNASCASSI', 'TPFUNCRESP', 'TPDOCRESP', 'DTDECLARAC', 'ESCMAEAGR1',\n",
       "       'STDNEPIDEM', 'STDNNOVA', 'CODPAISRES', 'TPROBSON', 'PARIDADE',\n",
       "       'KOTELCHUCK', 'CONTADOR', 'munResStatus', 'munResTipo', 'munResNome',\n",
       "       'munResUf', 'munResLat', 'munResLon', 'munResAlt', 'munResArea'],\n",
       "      dtype='object')"
      ]
     },
     "execution_count": 66,
     "metadata": {},
     "output_type": "execute_result"
    }
   ],
   "source": [
    "sinasc_raw.columns"
   ]
  },
  {
   "cell_type": "markdown",
   "metadata": {},
   "source": [
    "# Tarefa 1"
   ]
  },
  {
   "cell_type": "markdown",
   "metadata": {},
   "source": [
    "### 1. Idade media das mães e dos pais por município (coluna munResNome)\n"
   ]
  },
  {
   "cell_type": "code",
   "execution_count": 67,
   "metadata": {},
   "outputs": [
    {
     "data": {
      "text/html": [
       "<div>\n",
       "<style scoped>\n",
       "    .dataframe tbody tr th:only-of-type {\n",
       "        vertical-align: middle;\n",
       "    }\n",
       "\n",
       "    .dataframe tbody tr th {\n",
       "        vertical-align: top;\n",
       "    }\n",
       "\n",
       "    .dataframe thead th {\n",
       "        text-align: right;\n",
       "    }\n",
       "</style>\n",
       "<table border=\"1\" class=\"dataframe\">\n",
       "  <thead>\n",
       "    <tr style=\"text-align: right;\">\n",
       "      <th></th>\n",
       "      <th>IDADEMAE</th>\n",
       "      <th>IDADEPAI</th>\n",
       "    </tr>\n",
       "    <tr>\n",
       "      <th>munResNome</th>\n",
       "      <th></th>\n",
       "      <th></th>\n",
       "    </tr>\n",
       "  </thead>\n",
       "  <tbody>\n",
       "    <tr>\n",
       "      <th>Alta Floresta D'Oeste</th>\n",
       "      <td>25.991826</td>\n",
       "      <td>29.548701</td>\n",
       "    </tr>\n",
       "    <tr>\n",
       "      <th>Alto Alegre dos Parecis</th>\n",
       "      <td>24.844156</td>\n",
       "      <td>29.179104</td>\n",
       "    </tr>\n",
       "    <tr>\n",
       "      <th>Alto Paraíso</th>\n",
       "      <td>24.960177</td>\n",
       "      <td>28.833333</td>\n",
       "    </tr>\n",
       "    <tr>\n",
       "      <th>Alvorada D'Oeste</th>\n",
       "      <td>25.770732</td>\n",
       "      <td>30.757282</td>\n",
       "    </tr>\n",
       "    <tr>\n",
       "      <th>Ariquemes</th>\n",
       "      <td>25.607866</td>\n",
       "      <td>32.466667</td>\n",
       "    </tr>\n",
       "  </tbody>\n",
       "</table>\n",
       "</div>"
      ],
      "text/plain": [
       "                          IDADEMAE   IDADEPAI\n",
       "munResNome                                   \n",
       "Alta Floresta D'Oeste    25.991826  29.548701\n",
       "Alto Alegre dos Parecis  24.844156  29.179104\n",
       "Alto Paraíso             24.960177  28.833333\n",
       "Alvorada D'Oeste         25.770732  30.757282\n",
       "Ariquemes                25.607866  32.466667"
      ]
     },
     "execution_count": 67,
     "metadata": {},
     "output_type": "execute_result"
    }
   ],
   "source": [
    "media_idades = sinasc_raw.groupby('munResNome').agg({'IDADEMAE': 'mean', 'IDADEPAI': 'mean'})\n",
    "\n",
    "media_idades.head(5)"
   ]
  },
  {
   "cell_type": "markdown",
   "metadata": {},
   "source": [
    "### 2. Peso médio dos bebes por sexo que nasceram no dia do seu aniversário por faixas de escolaridade mae\n",
    "Ex: Você, aluna(o), nasceu no dia 10/01, então você precisa filtrar o conjunto de dados nessa data e calcular o peso médio dos bebês de cada sexo por faixa de escolaridade da mãe."
   ]
  },
  {
   "cell_type": "code",
   "execution_count": 68,
   "metadata": {},
   "outputs": [
    {
     "data": {
      "text/plain": [
       "SEXO       ESCMAE         \n",
       "Feminino   12 anos ou mais    3559.666667\n",
       "           4 a 7 anos         3209.250000\n",
       "           8 a 11 anos        3061.470588\n",
       "Masculino  12 anos ou mais    3261.500000\n",
       "           4 a 7 anos         3772.333333\n",
       "Name: PESO, dtype: float64"
      ]
     },
     "execution_count": 68,
     "metadata": {},
     "output_type": "execute_result"
    }
   ],
   "source": [
    "sinasc_raw['DTNASC'] = pd.to_datetime(sinasc_raw['DTNASC'], errors='coerce')\n",
    "\n",
    "filtered_data = sinasc_raw[sinasc_raw['DTNASC'].dt.month == 4]\n",
    "filtered_data = filtered_data[filtered_data['DTNASC'].dt.day == 28]\n",
    "\n",
    "peso_medio = filtered_data.groupby(['SEXO', 'ESCMAE'])['PESO'].mean()\n",
    "\n",
    "peso_medio.head()\n"
   ]
  },
  {
   "cell_type": "markdown",
   "metadata": {},
   "source": [
    "### 3. Qual o municipio que nasceu menos bebe em 2019?\n",
    "    - qual a idade media, maxima, minima das maes nesse municipio?\n",
    "    - qual a idade media, maxima, minima dos pais nesse municipio?"
   ]
  },
  {
   "cell_type": "code",
   "execution_count": 69,
   "metadata": {},
   "outputs": [
    {
     "data": {
      "text/html": [
       "<div>\n",
       "<style scoped>\n",
       "    .dataframe tbody tr th:only-of-type {\n",
       "        vertical-align: middle;\n",
       "    }\n",
       "\n",
       "    .dataframe tbody tr th {\n",
       "        vertical-align: top;\n",
       "    }\n",
       "\n",
       "    .dataframe thead th {\n",
       "        text-align: right;\n",
       "    }\n",
       "</style>\n",
       "<table border=\"1\" class=\"dataframe\">\n",
       "  <thead>\n",
       "    <tr style=\"text-align: right;\">\n",
       "      <th></th>\n",
       "      <th>mean</th>\n",
       "      <th>max</th>\n",
       "      <th>min</th>\n",
       "    </tr>\n",
       "    <tr>\n",
       "      <th>munResNome</th>\n",
       "      <th></th>\n",
       "      <th></th>\n",
       "      <th></th>\n",
       "    </tr>\n",
       "  </thead>\n",
       "  <tbody>\n",
       "    <tr>\n",
       "      <th>Alta Floresta D'Oeste</th>\n",
       "      <td>29.548701</td>\n",
       "      <td>58.0</td>\n",
       "      <td>17.0</td>\n",
       "    </tr>\n",
       "    <tr>\n",
       "      <th>Alto Alegre dos Parecis</th>\n",
       "      <td>29.179104</td>\n",
       "      <td>50.0</td>\n",
       "      <td>16.0</td>\n",
       "    </tr>\n",
       "    <tr>\n",
       "      <th>Alto Paraíso</th>\n",
       "      <td>28.833333</td>\n",
       "      <td>49.0</td>\n",
       "      <td>21.0</td>\n",
       "    </tr>\n",
       "    <tr>\n",
       "      <th>Alvorada D'Oeste</th>\n",
       "      <td>30.757282</td>\n",
       "      <td>52.0</td>\n",
       "      <td>17.0</td>\n",
       "    </tr>\n",
       "    <tr>\n",
       "      <th>Ariquemes</th>\n",
       "      <td>32.466667</td>\n",
       "      <td>51.0</td>\n",
       "      <td>20.0</td>\n",
       "    </tr>\n",
       "  </tbody>\n",
       "</table>\n",
       "</div>"
      ],
      "text/plain": [
       "                              mean   max   min\n",
       "munResNome                                    \n",
       "Alta Floresta D'Oeste    29.548701  58.0  17.0\n",
       "Alto Alegre dos Parecis  29.179104  50.0  16.0\n",
       "Alto Paraíso             28.833333  49.0  21.0\n",
       "Alvorada D'Oeste         30.757282  52.0  17.0\n",
       "Ariquemes                32.466667  51.0  20.0"
      ]
     },
     "execution_count": 69,
     "metadata": {},
     "output_type": "execute_result"
    }
   ],
   "source": [
    "quant_nasc_cidade = sinasc_raw.groupby('munResNome').size()\n",
    "\n",
    "#3.2 - qual a idade media, maxima, minima das maes nesse municipio?\n",
    "\n",
    "estatisticas_idade_mae = sinasc_raw.groupby('munResNome')['IDADEMAE'].agg(['mean', 'max', 'min'])\n",
    "\n",
    "estatisticas_idade_mae.head()\n",
    "#3.3 - qual a idade media, maxima, minima dos pais nesse municipio?\n",
    "\n",
    "estatisticas_idade_pai = sinasc_raw.groupby('munResNome')['IDADEPAI'].agg(['mean', 'max', 'min'])\n",
    "estatisticas_idade_pai.head()"
   ]
  },
  {
   "cell_type": "markdown",
   "metadata": {},
   "source": [
    "### 4. Qual o municipio que nasceu mais bebe no mês de março?\n",
    "    - qual a quantidade de filhos vivos media, maxima, minima nesse municipio?\n",
    "    - qual a idade media, maxima, minima dos pais nesse municipio?\n",
    "\n"
   ]
  },
  {
   "cell_type": "markdown",
   "metadata": {},
   "source": [
    "### Analise as respostas encontradas, tire algum insight delas, conte pra gente algo encontrado nos dados. Algo que você julgue relevante e novo pra você."
   ]
  },
  {
   "cell_type": "markdown",
   "metadata": {},
   "source": [
    "Exemplo:\n",
    "- Ah, descobri que a idade mediana das mulheres que deram a luz no ano de 2019 dos municipios x é maior que y."
   ]
  },
  {
   "cell_type": "code",
   "execution_count": 108,
   "metadata": {
    "scrolled": true
   },
   "outputs": [
    {
     "name": "stdout",
     "output_type": "stream",
     "text": [
      "Porto Velho\n",
      "O municipio que teve mais nascimentos em março foi Porto Velho\n",
      "A quantidade de nascimento em março foi de 744\n",
      "Média de Filhos Vivos     1.295056\n",
      "Máximo de Filhos Vivos    9.000000\n",
      "Mínimo de Filhos Vivos    0.000000\n",
      "Name: QTDFILVIVO, dtype: float64\n",
      "Média de Filhos Vivos     34.629032\n",
      "Máximo de Filhos Vivos    62.000000\n",
      "Mínimo de Filhos Vivos    19.000000\n",
      "Name: IDADEPAI, dtype: float64\n",
      "com as informações obtidas podemos afirmar se tratar da capital que houveram 744 nascimentos no periodo de março e as familias tem em média 1.3 filhos e a maior familia no municipio tem 9 a idade do pai varia de 19 a menor e 62 a maior com média de 35 anos.\n"
     ]
    }
   ],
   "source": [
    "#4.0 - Qual o municipio que nasceu mais bebe no mês de março?\n",
    "\n",
    "marco = sinasc_raw[sinasc_raw['DTNASC'].dt.month == 3]\n",
    "nascimentos_por_municipio = marco.groupby('munResNome').size()\n",
    "municipio_mais_nascimentos = nascimentos_por_municipio.idxmax()\n",
    "nascimentos_totais_por_municipio = marco.groupby('munResNome')['QTDFILVIVO'].sum()\n",
    "total_filhos_vivos = nascimentos_totais_por_municipio.sum()\n",
    "max_nascimentos = nascimentos_por_municipio.max()\n",
    "print(municipio_mais_nascimentos)\n",
    "print('O municipio que teve mais nascimentos em março foi', municipio_mais_nascimentos)\n",
    "print('A quantidade de nascimento em março foi de', max_nascimentos)\n",
    "\n",
    "#4.1 - Qual a quantidade de filhos vivos media, maxima, minima nesse municipio?\n",
    "\n",
    "\n",
    "dados_municipio = sinasc_raw[(sinasc_raw['munResNome'] == municipio_mais_nascimentos) & (sinasc_raw['DTNASC'].dt.month == 3)]\n",
    "filhos_vivos_estatisticas = dados_municipio['QTDFILVIVO'].agg(['mean', 'max', 'min']).rename({\n",
    "    'mean': 'Média de Filhos Vivos',\n",
    "    'max': 'Máximo de Filhos Vivos',\n",
    "    'min': 'Mínimo de Filhos Vivos'\n",
    "})\n",
    "print(filhos_vivos_estatisticas)\n",
    "\n",
    "#4.2 - qual a idade media, maxima, minima dos pais nesse municipio?\n",
    "\n",
    "pais_estatisticas = dados_municipio['IDADEPAI'].agg(['mean', 'max', 'min']).rename({\n",
    "    'mean': 'Média de Filhos Vivos',\n",
    "    'max': 'Máximo de Filhos Vivos',\n",
    "    'min': 'Mínimo de Filhos Vivos'\n",
    "})\n",
    "print(pais_estatisticas)\n",
    "\n",
    "print('com as informações obtidas podemos afirmar se tratar da capital que houveram 744 nascimentos no periodo de março e as familias tem em média 1.3 filhos e a maior familia no municipio tem 9 a idade do pai varia de 19 a menor e 62 a maior com média de 35 anos.')\n",
    "      "
   ]
  }
 ],
 "metadata": {
  "kernelspec": {
   "display_name": "Python 3 (ipykernel)",
   "language": "python",
   "name": "python3"
  },
  "language_info": {
   "codemirror_mode": {
    "name": "ipython",
    "version": 3
   },
   "file_extension": ".py",
   "mimetype": "text/x-python",
   "name": "python",
   "nbconvert_exporter": "python",
   "pygments_lexer": "ipython3",
   "version": "3.9.13"
  },
  "varInspector": {
   "cols": {
    "lenName": 16,
    "lenType": 16,
    "lenVar": 40
   },
   "kernels_config": {
    "python": {
     "delete_cmd_postfix": "",
     "delete_cmd_prefix": "del ",
     "library": "var_list.py",
     "varRefreshCmd": "print(var_dic_list())"
    },
    "r": {
     "delete_cmd_postfix": ") ",
     "delete_cmd_prefix": "rm(",
     "library": "var_list.r",
     "varRefreshCmd": "cat(var_dic_list()) "
    }
   },
   "types_to_exclude": [
    "module",
    "function",
    "builtin_function_or_method",
    "instance",
    "_Feature"
   ],
   "window_display": false
  }
 },
 "nbformat": 4,
 "nbformat_minor": 4
}
